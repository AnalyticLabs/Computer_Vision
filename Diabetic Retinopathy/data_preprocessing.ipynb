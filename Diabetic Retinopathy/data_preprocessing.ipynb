{
 "cells": [
  {
   "cell_type": "markdown",
   "metadata": {},
   "source": [
    "# Data Pre-Processing Report\n",
    "\n",
    "## Issues:\n",
    "1. Data Imbalance<br>\n",
    "        1.1 Example Class 0 has ~22k images while Class 4 has 678 images [huge imbalance]\n",
    "    \n",
    "2. Presence of poor quality of images<br>\n",
    "        2.1 Blurry images<br>\n",
    "        2.2 Low contrast images<br>\n",
    "        2.3 Images with low brightness<br>\n",
    "\n",
    "## Solution tried :\n",
    "1. Removing blurry images\n",
    "2. Contrast and Brightness correction\n",
    "3. Image data aumentation Ex Cropping, Brightness-Contrast change, log transform \n",
    "   to increase images in class which has lesser number"
   ]
  },
  {
   "cell_type": "code",
   "execution_count": 0,
   "metadata": {
    "colab": {
     "base_uri": "https://localhost:8080/",
     "height": 52
    },
    "colab_type": "code",
    "id": "DLtqreZORZYx",
    "outputId": "5b8287ec-b231-4581-9542-2d433d6e53ee"
   },
   "outputs": [
    {
     "name": "stdout",
     "output_type": "stream",
     "text": [
      "\u001b[?25l\r",
      "\u001b[K    1% |▎                               | 10kB 21.8MB/s eta 0:00:01\r",
      "\u001b[K    2% |▋                               | 20kB 4.7MB/s eta 0:00:01\r",
      "\u001b[K    3% |█                               | 30kB 6.5MB/s eta 0:00:01\r",
      "\u001b[K    4% |█▎                              | 40kB 4.2MB/s eta 0:00:01\r",
      "\u001b[K    5% |█▋                              | 51kB 5.1MB/s eta 0:00:01\r",
      "\u001b[K    6% |██                              | 61kB 6.0MB/s eta 0:00:01\r",
      "\u001b[K    7% |██▎                             | 71kB 6.8MB/s eta 0:00:01\r",
      "\u001b[K    8% |██▋                             | 81kB 7.6MB/s eta 0:00:01\r",
      "\u001b[K    9% |███                             | 92kB 8.4MB/s eta 0:00:01\r",
      "\u001b[K    10% |███▎                            | 102kB 6.8MB/s eta 0:00:01\r",
      "\u001b[K    11% |███▋                            | 112kB 6.9MB/s eta 0:00:01\r",
      "\u001b[K    12% |████                            | 122kB 9.1MB/s eta 0:00:01\r",
      "\u001b[K    13% |████▎                           | 133kB 9.1MB/s eta 0:00:01\r",
      "\u001b[K    14% |████▋                           | 143kB 16.0MB/s eta 0:00:01\r",
      "\u001b[K    15% |█████                           | 153kB 16.1MB/s eta 0:00:01\r",
      "\u001b[K    16% |█████▎                          | 163kB 16.1MB/s eta 0:00:01\r",
      "\u001b[K    17% |█████▋                          | 174kB 16.2MB/s eta 0:00:01\r",
      "\u001b[K    18% |██████                          | 184kB 16.5MB/s eta 0:00:01\r",
      "\u001b[K    19% |██████▎                         | 194kB 16.5MB/s eta 0:00:01\r",
      "\u001b[K    20% |██████▋                         | 204kB 38.9MB/s eta 0:00:01\r",
      "\u001b[K    21% |███████                         | 215kB 19.9MB/s eta 0:00:01\r",
      "\u001b[K    22% |███████▎                        | 225kB 19.9MB/s eta 0:00:01\r",
      "\u001b[K    23% |███████▋                        | 235kB 20.2MB/s eta 0:00:01\r",
      "\u001b[K    24% |████████                        | 245kB 20.2MB/s eta 0:00:01\r",
      "\u001b[K    25% |████████▎                       | 256kB 20.4MB/s eta 0:00:01\r",
      "\u001b[K    26% |████████▋                       | 266kB 19.4MB/s eta 0:00:01\r",
      "\u001b[K    27% |█████████                       | 276kB 19.9MB/s eta 0:00:01\r",
      "\u001b[K    29% |█████████▎                      | 286kB 19.9MB/s eta 0:00:01\r",
      "\u001b[K    30% |█████████▋                      | 296kB 19.8MB/s eta 0:00:01\r",
      "\u001b[K    31% |██████████                      | 307kB 21.0MB/s eta 0:00:01\r",
      "\u001b[K    32% |██████████▎                     | 317kB 44.2MB/s eta 0:00:01\r",
      "\u001b[K    33% |██████████▋                     | 327kB 44.5MB/s eta 0:00:01\r",
      "\u001b[K    34% |███████████                     | 337kB 46.5MB/s eta 0:00:01\r",
      "\u001b[K    35% |███████████▎                    | 348kB 42.8MB/s eta 0:00:01\r",
      "\u001b[K    36% |███████████▋                    | 358kB 42.5MB/s eta 0:00:01\r",
      "\u001b[K    37% |████████████                    | 368kB 48.1MB/s eta 0:00:01\r",
      "\u001b[K    38% |████████████▎                   | 378kB 47.7MB/s eta 0:00:01\r",
      "\u001b[K    39% |████████████▋                   | 389kB 48.1MB/s eta 0:00:01\r",
      "\u001b[K    40% |█████████████                   | 399kB 29.3MB/s eta 0:00:01\r",
      "\u001b[K    41% |█████████████▎                  | 409kB 28.8MB/s eta 0:00:01\r",
      "\u001b[K    42% |█████████████▋                  | 419kB 29.3MB/s eta 0:00:01\r",
      "\u001b[K    43% |██████████████                  | 430kB 28.5MB/s eta 0:00:01\r",
      "\u001b[K    44% |██████████████▎                 | 440kB 28.2MB/s eta 0:00:01\r",
      "\u001b[K    45% |██████████████▋                 | 450kB 28.9MB/s eta 0:00:01\r",
      "\u001b[K    46% |███████████████                 | 460kB 28.9MB/s eta 0:00:01\r",
      "\u001b[K    47% |███████████████▎                | 471kB 28.9MB/s eta 0:00:01\r",
      "\u001b[K    48% |███████████████▋                | 481kB 28.7MB/s eta 0:00:01\r",
      "\u001b[K    49% |████████████████                | 491kB 28.6MB/s eta 0:00:01\r",
      "\u001b[K    50% |████████████████▎               | 501kB 46.4MB/s eta 0:00:01\r",
      "\u001b[K    51% |████████████████▋               | 512kB 44.6MB/s eta 0:00:01\r",
      "\u001b[K    52% |█████████████████               | 522kB 44.8MB/s eta 0:00:01\r",
      "\u001b[K    53% |█████████████████▎              | 532kB 46.5MB/s eta 0:00:01\r",
      "\u001b[K    54% |█████████████████▋              | 542kB 47.0MB/s eta 0:00:01\r",
      "\u001b[K    55% |██████████████████              | 552kB 50.4MB/s eta 0:00:01\r",
      "\u001b[K    57% |██████████████████▎             | 563kB 50.7MB/s eta 0:00:01\r",
      "\u001b[K    58% |██████████████████▋             | 573kB 49.3MB/s eta 0:00:01\r",
      "\u001b[K    59% |███████████████████             | 583kB 49.7MB/s eta 0:00:01\r",
      "\u001b[K    60% |███████████████████▎            | 593kB 49.7MB/s eta 0:00:01\r",
      "\u001b[K    61% |███████████████████▋            | 604kB 49.0MB/s eta 0:00:01\r",
      "\u001b[K    62% |████████████████████            | 614kB 52.0MB/s eta 0:00:01\r",
      "\u001b[K    63% |████████████████████▎           | 624kB 49.6MB/s eta 0:00:01\r",
      "\u001b[K    64% |████████████████████▋           | 634kB 50.4MB/s eta 0:00:01\r",
      "\u001b[K    65% |█████████████████████           | 645kB 48.9MB/s eta 0:00:01\r",
      "\u001b[K    66% |█████████████████████▎          | 655kB 46.0MB/s eta 0:00:01\r",
      "\u001b[K    67% |█████████████████████▋          | 665kB 37.6MB/s eta 0:00:01\r",
      "\u001b[K    68% |██████████████████████          | 675kB 37.8MB/s eta 0:00:01\r",
      "\u001b[K    69% |██████████████████████▎         | 686kB 38.0MB/s eta 0:00:01\r",
      "\u001b[K    70% |██████████████████████▋         | 696kB 37.9MB/s eta 0:00:01\r",
      "\u001b[K    71% |███████████████████████         | 706kB 38.1MB/s eta 0:00:01\r",
      "\u001b[K    72% |███████████████████████▎        | 716kB 38.6MB/s eta 0:00:01\r",
      "\u001b[K    73% |███████████████████████▋        | 727kB 39.0MB/s eta 0:00:01\r",
      "\u001b[K    74% |████████████████████████        | 737kB 38.6MB/s eta 0:00:01\r",
      "\u001b[K    75% |████████████████████████▎       | 747kB 39.4MB/s eta 0:00:01\r",
      "\u001b[K    76% |████████████████████████▋       | 757kB 41.3MB/s eta 0:00:01\r",
      "\u001b[K    77% |████████████████████████▉       | 768kB 52.0MB/s eta 0:00:01\r",
      "\u001b[K    78% |█████████████████████████▏      | 778kB 52.6MB/s eta 0:00:01\r",
      "\u001b[K    79% |█████████████████████████▌      | 788kB 51.1MB/s eta 0:00:01\r",
      "\u001b[K    80% |█████████████████████████▉      | 798kB 51.3MB/s eta 0:00:01\r",
      "\u001b[K    81% |██████████████████████████▏     | 808kB 51.7MB/s eta 0:00:01\r",
      "\u001b[K    82% |██████████████████████████▌     | 819kB 51.6MB/s eta 0:00:01\r",
      "\u001b[K    83% |██████████████████████████▉     | 829kB 53.4MB/s eta 0:00:01\r",
      "\u001b[K    85% |███████████████████████████▏    | 839kB 53.6MB/s eta 0:00:01\r",
      "\u001b[K    86% |███████████████████████████▌    | 849kB 53.0MB/s eta 0:00:01\r",
      "\u001b[K    87% |███████████████████████████▉    | 860kB 48.0MB/s eta 0:00:01\r",
      "\u001b[K    88% |████████████████████████████▏   | 870kB 47.5MB/s eta 0:00:01\r",
      "\u001b[K    89% |████████████████████████████▌   | 880kB 48.2MB/s eta 0:00:01\r",
      "\u001b[K    90% |████████████████████████████▉   | 890kB 49.4MB/s eta 0:00:01\r",
      "\u001b[K    91% |█████████████████████████████▏  | 901kB 49.0MB/s eta 0:00:01\r",
      "\u001b[K    92% |█████████████████████████████▌  | 911kB 49.1MB/s eta 0:00:01\r",
      "\u001b[K    93% |█████████████████████████████▉  | 921kB 48.6MB/s eta 0:00:01\r",
      "\u001b[K    94% |██████████████████████████████▏ | 931kB 48.7MB/s eta 0:00:01\r",
      "\u001b[K    95% |██████████████████████████████▌ | 942kB 48.9MB/s eta 0:00:01\r",
      "\u001b[K    96% |██████████████████████████████▉ | 952kB 49.2MB/s eta 0:00:01\r",
      "\u001b[K    97% |███████████████████████████████▏| 962kB 55.0MB/s eta 0:00:01\r",
      "\u001b[K    98% |███████████████████████████████▌| 972kB 55.0MB/s eta 0:00:01\r",
      "\u001b[K    99% |███████████████████████████████▉| 983kB 53.4MB/s eta 0:00:01\r",
      "\u001b[K    100% |████████████████████████████████| 993kB 19.8MB/s \n",
      "\u001b[?25h  Building wheel for PyDrive (setup.py) ... \u001b[?25ldone\n",
      "\u001b[?25h"
     ]
    }
   ],
   "source": [
    "!pip install -U -q PyDrive\n",
    "from pydrive.auth import GoogleAuth\n",
    "from pydrive.drive import GoogleDrive\n",
    "from google.colab import auth\n",
    "from oauth2client.client import GoogleCredentials\n",
    "\n",
    "# 1. Authenticate and create the PyDrive client.\n",
    "auth.authenticate_user()\n",
    "gauth = GoogleAuth()\n",
    "gauth.credentials = GoogleCredentials.get_application_default()\n",
    "drive = GoogleDrive(gauth)"
   ]
  },
  {
   "cell_type": "markdown",
   "metadata": {},
   "source": [
    "# Import Data\n",
    "Creating a directory data_dump where zip files of train and test will be downloaded from kaggle to google drive \n",
    "1. Download data using kaggle python package"
   ]
  },
  {
   "cell_type": "code",
   "execution_count": 0,
   "metadata": {
    "colab": {
     "base_uri": "https://localhost:8080/",
     "height": 816
    },
    "colab_type": "code",
    "collapsed": true,
    "id": "UvzrO0flRs_-",
    "outputId": "9f0c7ba6-f772-434f-d2c9-0242e23860bc"
   },
   "outputs": [
    {
     "name": "stdout",
     "output_type": "stream",
     "text": [
      "Warning: Your Kaggle API key is readable by other users on this system! To fix this, you can run 'chmod 600 /root/.kaggle/kaggle.json'\n",
      "Downloading trainLabels.csv.zip to datalab\n",
      "  0% 0.00/69.4k [00:00<?, ?B/s]\n",
      "100% 69.4k/69.4k [00:00<00:00, 59.1MB/s]\n",
      "Downloading sampleSubmission.csv.zip to datalab\n",
      "  0% 0.00/81.6k [00:00<?, ?B/s]\n",
      "100% 81.6k/81.6k [00:00<00:00, 85.0MB/s]\n",
      "Downloading sample.zip to datalab\n",
      " 48% 5.00M/10.4M [00:00<00:00, 19.5MB/s]\n",
      "100% 10.4M/10.4M [00:00<00:00, 34.6MB/s]\n",
      "Downloading train.zip.004 to datalab\n",
      "100% 7.81G/7.81G [00:57<00:00, 110MB/s]\n",
      "100% 7.81G/7.81G [00:57<00:00, 147MB/s]\n",
      "Downloading train.zip.002 to datalab\n",
      "100% 7.80G/7.81G [00:56<00:00, 175MB/s]\n",
      "100% 7.81G/7.81G [00:57<00:00, 147MB/s]\n",
      "Downloading train.zip.001 to datalab\n",
      "100% 7.80G/7.81G [00:57<00:00, 166MB/s]\n",
      "100% 7.81G/7.81G [00:57<00:00, 146MB/s]\n",
      "Downloading train.zip.005 to datalab\n",
      "100% 1.33G/1.34G [00:08<00:00, 175MB/s]\n",
      "100% 1.34G/1.34G [00:08<00:00, 160MB/s]\n",
      "Downloading train.zip.003 to datalab\n",
      "100% 7.81G/7.81G [00:57<00:00, 180MB/s]\n",
      "100% 7.81G/7.81G [00:57<00:00, 146MB/s]\n",
      "Downloading test.zip.004 to datalab\n",
      "100% 7.81G/7.81G [02:17<00:00, 72.7MB/s]\n",
      "100% 7.81G/7.81G [02:17<00:00, 60.9MB/s]\n",
      "Downloading test.zip.005 to datalab\n",
      "100% 7.80G/7.81G [02:15<00:00, 60.1MB/s]\n",
      "100% 7.81G/7.81G [02:15<00:00, 61.9MB/s]\n",
      "Downloading test.zip.002 to datalab\n",
      "100% 7.80G/7.81G [02:17<00:00, 82.2MB/s]\n",
      "100% 7.81G/7.81G [02:17<00:00, 61.0MB/s]\n",
      "Downloading test.zip.003 to datalab\n",
      "100% 7.80G/7.81G [02:37<00:00, 51.3MB/s]\n",
      "100% 7.81G/7.81G [02:37<00:00, 53.2MB/s]\n",
      "Downloading test.zip.001 to datalab\n",
      "100% 7.80G/7.81G [02:25<00:00, 46.5MB/s]\n",
      "100% 7.81G/7.81G [02:25<00:00, 57.6MB/s]\n",
      "Downloading test.zip.006 to datalab\n",
      "100% 7.81G/7.81G [02:23<00:00, 40.7MB/s]\n",
      "100% 7.81G/7.81G [02:23<00:00, 58.4MB/s]\n",
      "Downloading test.zip.007 to datalab\n",
      "100% 2.74G/2.75G [00:50<00:00, 71.5MB/s]\n",
      "100% 2.75G/2.75G [00:50<00:00, 58.1MB/s]\n"
     ]
    }
   ],
   "source": [
    "!mkdir ~/.kaggle\n",
    "!echo '{\"username\":\"aabhishek\",\"key\":\"$$$$$$$$$$$$$\"}' > ~/.kaggle/kaggle.json\n",
    "!kaggle competitions download -c diabetic-retinopathy-detection -p data_dump"
   ]
  },
  {
   "cell_type": "markdown",
   "metadata": {},
   "source": [
    "#### Using 7zip (by default in google collab) to unzip data"
   ]
  },
  {
   "cell_type": "code",
   "execution_count": 0,
   "metadata": {
    "colab": {},
    "colab_type": "code",
    "id": "jy_YGku8Rw5-"
   },
   "outputs": [],
   "source": [
    "!7z x data_dump/train.zip.001\n",
    "!unzip data_dump/trainLabels.csv.zip"
   ]
  },
  {
   "cell_type": "markdown",
   "metadata": {},
   "source": [
    "#### Transfering test and train to tmp folder"
   ]
  },
  {
   "cell_type": "code",
   "execution_count": 0,
   "metadata": {
    "colab": {},
    "colab_type": "code",
    "id": "r2l3Py53Rygd"
   },
   "outputs": [],
   "source": [
    "!mkdir tmp\n",
    "!mv train tmp"
   ]
  },
  {
   "cell_type": "markdown",
   "metadata": {},
   "source": [
    "# Pre-Processing"
   ]
  },
  {
   "cell_type": "code",
   "execution_count": 0,
   "metadata": {
    "colab": {},
    "colab_type": "code",
    "id": "VpDETeBfR2w8"
   },
   "outputs": [],
   "source": [
    "#importing required libraries\n",
    "import pandas as pd\n",
    "import os\n",
    "import random\n",
    "import math\n",
    "import numpy as np\n",
    "import cv2\n",
    "import matplotlib.pyplot as plt\n",
    "import matplotlib.patches as patches\n",
    "from sklearn.utils import shuffle\n",
    "from tqdm import tqdm_notebook\n",
    "import warnings\n",
    "from imutils import paths\n",
    "from PIL import Image\n",
    "from skimage import io\n",
    "from skimage import exposure\n",
    "\n",
    "warnings.filterwarnings('ignore')\n",
    "%matplotlib inline"
   ]
  },
  {
   "cell_type": "markdown",
   "metadata": {},
   "source": [
    "#### Head of train label file"
   ]
  },
  {
   "cell_type": "code",
   "execution_count": 0,
   "metadata": {
    "colab": {
     "base_uri": "https://localhost:8080/",
     "height": 206
    },
    "colab_type": "code",
    "id": "erzVi7zdR47r",
    "outputId": "c508902b-047f-4623-cb6e-c0fe38c8caa0"
   },
   "outputs": [
    {
     "data": {
      "text/html": [
       "<div>\n",
       "<style scoped>\n",
       "    .dataframe tbody tr th:only-of-type {\n",
       "        vertical-align: middle;\n",
       "    }\n",
       "\n",
       "    .dataframe tbody tr th {\n",
       "        vertical-align: top;\n",
       "    }\n",
       "\n",
       "    .dataframe thead th {\n",
       "        text-align: right;\n",
       "    }\n",
       "</style>\n",
       "<table border=\"1\" class=\"dataframe\">\n",
       "  <thead>\n",
       "    <tr style=\"text-align: right;\">\n",
       "      <th></th>\n",
       "      <th>image</th>\n",
       "      <th>level</th>\n",
       "    </tr>\n",
       "  </thead>\n",
       "  <tbody>\n",
       "    <tr>\n",
       "      <th>0</th>\n",
       "      <td>10_left</td>\n",
       "      <td>0</td>\n",
       "    </tr>\n",
       "    <tr>\n",
       "      <th>1</th>\n",
       "      <td>10_right</td>\n",
       "      <td>0</td>\n",
       "    </tr>\n",
       "    <tr>\n",
       "      <th>2</th>\n",
       "      <td>13_left</td>\n",
       "      <td>0</td>\n",
       "    </tr>\n",
       "    <tr>\n",
       "      <th>3</th>\n",
       "      <td>13_right</td>\n",
       "      <td>0</td>\n",
       "    </tr>\n",
       "    <tr>\n",
       "      <th>4</th>\n",
       "      <td>15_left</td>\n",
       "      <td>1</td>\n",
       "    </tr>\n",
       "  </tbody>\n",
       "</table>\n",
       "</div>"
      ],
      "text/plain": [
       "      image  level\n",
       "0   10_left      0\n",
       "1  10_right      0\n",
       "2   13_left      0\n",
       "3  13_right      0\n",
       "4   15_left      1"
      ]
     },
     "execution_count": 8,
     "metadata": {
      "tags": []
     },
     "output_type": "execute_result"
    }
   ],
   "source": [
    "trainLabels = pd.read_csv(\"trainLabels.csv\")\n",
    "trainLabels.head()"
   ]
  },
  {
   "cell_type": "code",
   "execution_count": 0,
   "metadata": {
    "colab": {},
    "colab_type": "code",
    "id": "WCi4S7_mR8i4"
   },
   "outputs": [],
   "source": [
    "listing = os.listdir(\"tmp/train\") "
   ]
  },
  {
   "cell_type": "markdown",
   "metadata": {},
   "source": [
    "#### Creating different directories for different classes of diabetic eye for classification"
   ]
  },
  {
   "cell_type": "code",
   "execution_count": 0,
   "metadata": {
    "colab": {},
    "colab_type": "code",
    "id": "LLPuhLS8R_Ft"
   },
   "outputs": [],
   "source": [
    "!mkdir tmp/train/0\n",
    "!mkdir tmp/train/1\n",
    "!mkdir tmp/train/2\n",
    "!mkdir tmp/train/3\n",
    "!mkdir tmp/train/4\n"
   ]
  },
  {
   "cell_type": "markdown",
   "metadata": {},
   "source": [
    "#### Using trainLabels file to segregrate into different classes"
   ]
  },
  {
   "cell_type": "code",
   "execution_count": null,
   "metadata": {
    "colab": {},
    "colab_type": "code",
    "id": "gYqziQBpSB_Y"
   },
   "outputs": [],
   "source": [
    "base_dir = \"tmp/train/\"\n",
    "\n",
    "for file in listing:\n",
    "    try:\n",
    "        fileName = os.path.splitext(file)[0]\n",
    "        folder_name = trainLabels.loc[trainLabels.image==fileName, 'level'].values[0]  \n",
    "        os.rename(base_dir + file, base_dir + str(folder_name) + \"/\" + file )\n",
    "    except:\n",
    "        print(\"error\")\n",
    "        pass"
   ]
  },
  {
   "cell_type": "markdown",
   "metadata": {},
   "source": [
    "#### For verification checking files in class 0 ~ 25,810 images"
   ]
  },
  {
   "cell_type": "code",
   "execution_count": 0,
   "metadata": {
    "colab": {
     "base_uri": "https://localhost:8080/",
     "height": 34
    },
    "colab_type": "code",
    "id": "dZvD_3RoSEBc",
    "outputId": "ef9d8b53-e725-4c72-bb0d-2c51ff3f962e"
   },
   "outputs": [
    {
     "name": "stdout",
     "output_type": "stream",
     "text": [
      "25810\n"
     ]
    }
   ],
   "source": [
    "!ls tmp/train/0 | wc -l"
   ]
  },
  {
   "cell_type": "markdown",
   "metadata": {},
   "source": [
    "### Variance Of Laplacian\n",
    "\n",
    "Laplacian of image gives edges present in an image. Blurry images have less edges so variance of edges will be lesser than as compared to sharp images. Thus a well focused image is expected to have a high variation in grey levels.\n",
    "\n",
    "[1] R. Bansal, G. Raj and T. Choudhury, \"Blur image detection using Laplacian operator and Open-CV,\" 2016 International Conference System Modeling & Advancement in Research Trends (SMART), Moradabad, 2016, pp. 63-67."
   ]
  },
  {
   "cell_type": "code",
   "execution_count": 0,
   "metadata": {
    "colab": {},
    "colab_type": "code",
    "id": "QagMX8GJkkyw"
   },
   "outputs": [],
   "source": [
    "def variance_of_laplacian(image):\n",
    "    # compute the Laplacian of the image and then return the focus\n",
    "    # measure, which is simply the variance of the Laplacian\n",
    "    return cv2.Laplacian(image, cv2.CV_64F).var()"
   ]
  },
  {
   "cell_type": "code",
   "execution_count": 0,
   "metadata": {
    "colab": {},
    "colab_type": "code",
    "id": "cqLUSl-mklt0"
   },
   "outputs": [],
   "source": [
    "def blur_check(PATH): \n",
    "    image_dict = {}\n",
    "    list_of_images = os.listdir(PATH)\n",
    "    for im in list_of_images:\n",
    "        image = cv2.imread(PATH+im)\n",
    "        gray = cv2.cvtColor(image, cv2.COLOR_BGR2GRAY)\n",
    "        fm = variance_of_laplacian(gray)\n",
    "        #plt.imshow(image);\n",
    "        #plt.show()\n",
    "        image_dict[im]= fm \n",
    "    return image_dict"
   ]
  },
  {
   "cell_type": "markdown",
   "metadata": {},
   "source": [
    "#### Function for image resizing and overwriting existing image"
   ]
  },
  {
   "cell_type": "code",
   "execution_count": null,
   "metadata": {},
   "outputs": [],
   "source": [
    "def resize(PATH):\n",
    "    images = os.listdir(PATH);\n",
    "    for image in images:\n",
    "        name = PATH + image\n",
    "        im = cv2.imread(name)\n",
    "        im = cv2.resize (im, (512, 512));\n",
    "        cv2.imwrite(name, im)"
   ]
  },
  {
   "cell_type": "markdown",
   "metadata": {},
   "source": [
    "#### Function for deleting blurry image, delete path to be supplied"
   ]
  },
  {
   "cell_type": "code",
   "execution_count": null,
   "metadata": {},
   "outputs": [],
   "source": [
    "def remove_blur_images(BASE_DIR,to_delete):\n",
    "    for file in to_delete:\n",
    "        os.remove(BASE_DIR+file)"
   ]
  },
  {
   "cell_type": "markdown",
   "metadata": {},
   "source": [
    "### Data Augmentation\n",
    "#### 1. Contrast Enhancement - change the image intensity value distribution to cover a wide range\n",
    "\n",
    "#### 2. Log Enhancement - The dynamic range of an image can be compressed by replacing each pixel value with its logarithm. This      has the effect that low intensity pixel values are enhanced. Applying a pixel logarithm operator to an image can be useful in applications where the dynamic range may too large to be displayed on a screen (or to be recorded on a film in the first place)\n",
    "[2] R. Gonzalez and R. Woods Digital Image Processing, Addison-Wesley Publishing Company, 1992, pp 167 - 168.\n",
    "\n",
    "#### 3. Sigmoid Correction - Similar to contrast enhancement \n",
    "[3] Saruchi. “Adaptive Sigmoid Function to Enhance Low Contrast Images.” (2012)"
   ]
  },
  {
   "cell_type": "code",
   "execution_count": null,
   "metadata": {},
   "outputs": [],
   "source": [
    "def data_aug_val(path):\n",
    "    listing_test = os.listdir(path)\n",
    "    for file_name in listing_test:\n",
    "            image = io.imread(path+file_name)\n",
    "            v_min, v_max = np.percentile(image, (0.2, 99.8))\n",
    "            better_contrast = exposure.rescale_intensity(image, in_range=(v_min, v_max))\n",
    "            log_correction_image = exposure.adjust_log(image)\n",
    "            sigmoid_correction_image = exposure.adjust_sigmoid(image)\n",
    "            horizontal_flip = image[:, ::-1]\n",
    "            #color_inversion_image_with_np = np.invert(image)\n",
    "            #adjusted_gamma_image = exposure.adjust_gamma(image, gamma=0.4, gain=0.9)\n",
    "            io.imsave(path+str(1)+file_name,better_contrast)\n",
    "            io.imsave(path+str(2)+file_name,log_correction_image)\n",
    "            io.imsave(path+str(3)+file_name,sigmoid_correction_image)"
   ]
  },
  {
   "cell_type": "code",
   "execution_count": null,
   "metadata": {},
   "outputs": [],
   "source": [
    "#Function for removing excess image\n",
    "def remove_excess_images(PATH,number):\n",
    "    listing = os.listdir(PATH) \n",
    "    to_delete = random.sample(listing, number)\n",
    "    for file in to_delete:\n",
    "        os.remove(PATH+file)"
   ]
  },
  {
   "cell_type": "code",
   "execution_count": null,
   "metadata": {},
   "outputs": [],
   "source": [
    "#Similar to data_aug_val but for testing purpose\n",
    "def data_aug_val_1(path):\n",
    "    listing_test = os.listdir(path)\n",
    "    for file_name in listing_test:\n",
    "            image = io.imread(path+file_name)\n",
    "            log_correction_image = exposure.adjust_log(image)\n",
    "            #color_inversion_image_with_np = np.invert(image)\n",
    "            #adjusted_gamma_image = exposure.adjust_gamma(image, gamma=0.4, gain=0.9)\n",
    "            #io.imsave(path+str(1)+file_name,better_contrast)\n",
    "            io.imsave(path+str(2)+file_name,log_correction_image)\n",
    "            #io.imsave(path+str(3)+file_name,sigmoid_correction_image)"
   ]
  },
  {
   "cell_type": "code",
   "execution_count": 0,
   "metadata": {
    "colab": {
     "base_uri": "https://localhost:8080/",
     "height": 364
    },
    "colab_type": "code",
    "collapsed": true,
    "id": "hxWseyy_k1Dj",
    "outputId": "7aa45ec7-2646-4e21-c843-9f5d2b47503f"
   },
   "outputs": [
    {
     "name": "stdout",
     "output_type": "stream",
     "text": [
      "CPU times: user 39min 41s, sys: 1min 44s, total: 41min 26s\n",
      "Wall time: 40min 25s\n",
      "CPU times: user 39min 41s, sys: 1min 44s, total: 41min 26s\n",
      "Wall time: 40min 25s\n",
      "CPU times: user 3min 43s, sys: 10.1 s, total: 3min 53s\n",
      "Wall time: 3min 47s\n",
      "CPU times: user 3min 43s, sys: 10.1 s, total: 3min 53s\n",
      "Wall time: 3min 47s\n",
      "CPU times: user 8min 25s, sys: 22.6 s, total: 8min 47s\n",
      "Wall time: 8min 34s\n",
      "CPU times: user 8min 25s, sys: 22.6 s, total: 8min 47s\n",
      "Wall time: 8min 34s\n",
      "CPU times: user 1min 24s, sys: 3.61 s, total: 1min 28s\n",
      "Wall time: 1min 26s\n",
      "CPU times: user 1min 24s, sys: 3.61 s, total: 1min 28s\n",
      "Wall time: 1min 26s\n",
      "CPU times: user 1min 9s, sys: 2.96 s, total: 1min 12s\n",
      "Wall time: 1min 10s\n",
      "CPU times: user 1min 9s, sys: 2.96 s, total: 1min 12s\n",
      "Wall time: 1min 10s\n"
     ]
    }
   ],
   "source": [
    "# Calling for image resize\n",
    "%time resize(\"tmp/train/0/\")\n",
    "%time resize(\"tmp/train/1/\")\n",
    "%time resize(\"tmp/train/2/\")\n",
    "%time resize(\"tmp/train/3/\")\n",
    "%time resize(\"tmp/train/4/\")"
   ]
  },
  {
   "cell_type": "markdown",
   "metadata": {},
   "source": [
    "#### Checking bluriiness of the images and dropping 10% of the total images as they are most blurred"
   ]
  },
  {
   "cell_type": "code",
   "execution_count": 0,
   "metadata": {
    "colab": {
     "base_uri": "https://localhost:8080/",
     "height": 86
    },
    "colab_type": "code",
    "id": "00qae61Rk3ZE",
    "outputId": "8cd928ec-3ceb-473f-8330-d127d89c186b"
   },
   "outputs": [
    {
     "name": "stdout",
     "output_type": "stream",
     "text": [
      "CPU times: user 3min 34s, sys: 25.3 s, total: 4min\n",
      "Wall time: 3min 34s\n",
      "CPU times: user 3min 34s, sys: 25.3 s, total: 4min\n",
      "Wall time: 3min 34s\n"
     ]
    }
   ],
   "source": [
    "%time dict_sharp = blur_check(\"./tmp/train/0/\")"
   ]
  },
  {
   "cell_type": "code",
   "execution_count": 0,
   "metadata": {
    "colab": {},
    "colab_type": "code",
    "id": "i568cAPHlDlp"
   },
   "outputs": [],
   "source": [
    "#creating a dataframe of val and image name \n",
    "val_series = pd.Series(dict_sharp)\n",
    "df = pd.DataFrame(val_series,columns=[\"val\"])\n",
    "df.sort_values(by='val',inplace=True)\n",
    "df.reset_index(level=0, inplace=True)"
   ]
  },
  {
   "cell_type": "code",
   "execution_count": 0,
   "metadata": {
    "colab": {
     "base_uri": "https://localhost:8080/",
     "height": 363
    },
    "colab_type": "code",
    "id": "BsdYMeR9ymvC",
    "outputId": "d18805b9-e714-4e8e-fdbf-19d7e35f2a78"
   },
   "outputs": [
    {
     "data": {
      "text/html": [
       "<div>\n",
       "<style scoped>\n",
       "    .dataframe tbody tr th:only-of-type {\n",
       "        vertical-align: middle;\n",
       "    }\n",
       "\n",
       "    .dataframe tbody tr th {\n",
       "        vertical-align: top;\n",
       "    }\n",
       "\n",
       "    .dataframe thead th {\n",
       "        text-align: right;\n",
       "    }\n",
       "</style>\n",
       "<table border=\"1\" class=\"dataframe\">\n",
       "  <thead>\n",
       "    <tr style=\"text-align: right;\">\n",
       "      <th></th>\n",
       "      <th>index</th>\n",
       "      <th>val</th>\n",
       "    </tr>\n",
       "  </thead>\n",
       "  <tbody>\n",
       "    <tr>\n",
       "      <th>2990</th>\n",
       "      <td>23233_left.jpeg</td>\n",
       "      <td>29.951339</td>\n",
       "    </tr>\n",
       "    <tr>\n",
       "      <th>2991</th>\n",
       "      <td>13042_left.jpeg</td>\n",
       "      <td>29.955024</td>\n",
       "    </tr>\n",
       "    <tr>\n",
       "      <th>2992</th>\n",
       "      <td>38243_right.jpeg</td>\n",
       "      <td>29.963623</td>\n",
       "    </tr>\n",
       "    <tr>\n",
       "      <th>2993</th>\n",
       "      <td>41312_left.jpeg</td>\n",
       "      <td>29.971027</td>\n",
       "    </tr>\n",
       "    <tr>\n",
       "      <th>2994</th>\n",
       "      <td>20316_left.jpeg</td>\n",
       "      <td>29.976616</td>\n",
       "    </tr>\n",
       "    <tr>\n",
       "      <th>2995</th>\n",
       "      <td>13196_right.jpeg</td>\n",
       "      <td>29.979807</td>\n",
       "    </tr>\n",
       "    <tr>\n",
       "      <th>2996</th>\n",
       "      <td>33159_left.jpeg</td>\n",
       "      <td>29.982596</td>\n",
       "    </tr>\n",
       "    <tr>\n",
       "      <th>2997</th>\n",
       "      <td>38162_left.jpeg</td>\n",
       "      <td>29.989548</td>\n",
       "    </tr>\n",
       "    <tr>\n",
       "      <th>2998</th>\n",
       "      <td>43225_right.jpeg</td>\n",
       "      <td>29.992973</td>\n",
       "    </tr>\n",
       "    <tr>\n",
       "      <th>2999</th>\n",
       "      <td>14933_right.jpeg</td>\n",
       "      <td>29.996082</td>\n",
       "    </tr>\n",
       "  </tbody>\n",
       "</table>\n",
       "</div>"
      ],
      "text/plain": [
       "                 index        val\n",
       "2990   23233_left.jpeg  29.951339\n",
       "2991   13042_left.jpeg  29.955024\n",
       "2992  38243_right.jpeg  29.963623\n",
       "2993   41312_left.jpeg  29.971027\n",
       "2994   20316_left.jpeg  29.976616\n",
       "2995  13196_right.jpeg  29.979807\n",
       "2996   33159_left.jpeg  29.982596\n",
       "2997   38162_left.jpeg  29.989548\n",
       "2998  43225_right.jpeg  29.992973\n",
       "2999  14933_right.jpeg  29.996082"
      ]
     },
     "execution_count": 43,
     "metadata": {
      "tags": []
     },
     "output_type": "execute_result"
    }
   ],
   "source": [
    "df.head(3000).tail(10)"
   ]
  },
  {
   "cell_type": "code",
   "execution_count": 0,
   "metadata": {
    "colab": {
     "base_uri": "https://localhost:8080/",
     "height": 269
    },
    "colab_type": "code",
    "id": "jKYWb4EuknVQ",
    "outputId": "eba6f056-9bdb-48b4-8f95-7e887071c6ec"
   },
   "outputs": [
    {
     "data": {
      "image/png": "[encoded data removed]",
      "text/plain": [
       "<Figure size 432x288 with 1 Axes>"
      ]
     },
     "metadata": {
      "tags": []
     },
     "output_type": "display_data"
    }
   ],
   "source": [
    "#checking the image having the lowest val\n",
    "image = cv2.imread(\"./tmp/train/0/27481_right.jpeg\")\n",
    "plt.imshow(image);\n",
    "plt.show()"
   ]
  },
  {
   "cell_type": "code",
   "execution_count": 0,
   "metadata": {
    "colab": {},
    "colab_type": "code",
    "id": "fyrjJz_4z1Fz"
   },
   "outputs": [],
   "source": [
    "to_delete = df[\"index\"].head(3000).tolist()\n",
    "remove_blur_images(\"./tmp/train/0/\",to_delete)"
   ]
  },
  {
   "cell_type": "markdown",
   "metadata": {},
   "source": [
    "#### Dropped blurred images from class 0"
   ]
  },
  {
   "cell_type": "code",
   "execution_count": 0,
   "metadata": {
    "colab": {
     "base_uri": "https://localhost:8080/",
     "height": 34
    },
    "colab_type": "code",
    "id": "7Wvv3Fqm1d1z",
    "outputId": "0eba2b61-98f5-4277-810a-f24d638e9635"
   },
   "outputs": [
    {
     "name": "stdout",
     "output_type": "stream",
     "text": [
      "22810\n"
     ]
    }
   ],
   "source": [
    "!ls tmp/train/0 | wc -l"
   ]
  },
  {
   "cell_type": "code",
   "execution_count": 0,
   "metadata": {
    "colab": {
     "base_uri": "https://localhost:8080/",
     "height": 52
    },
    "colab_type": "code",
    "id": "dqnlrml01pQe",
    "outputId": "dc7f9a5e-9571-4c62-bcd3-4a9a9a443f3d"
   },
   "outputs": [
    {
     "name": "stdout",
     "output_type": "stream",
     "text": [
      "CPU times: user 20.3 s, sys: 3.23 s, total: 23.6 s\n",
      "Wall time: 21.1 s\n"
     ]
    }
   ],
   "source": [
    "%time dict_sharp = blur_check(\"./tmp/train/1/\")\n",
    "frame = pd.Series(dict_sharp)\n",
    "df = pd.DataFrame(frame,columns=[\"val\"])\n",
    "df.sort_values(by='val',inplace=True)\n",
    "df.reset_index(level=0, inplace=True)"
   ]
  },
  {
   "cell_type": "code",
   "execution_count": 0,
   "metadata": {
    "colab": {
     "base_uri": "https://localhost:8080/",
     "height": 206
    },
    "colab_type": "code",
    "id": "PwFoKIyV2JY7",
    "outputId": "7f5e760b-aab2-4610-e96d-81ab3a5d13ae"
   },
   "outputs": [
    {
     "data": {
      "text/html": [
       "<div>\n",
       "<style scoped>\n",
       "    .dataframe tbody tr th:only-of-type {\n",
       "        vertical-align: middle;\n",
       "    }\n",
       "\n",
       "    .dataframe tbody tr th {\n",
       "        vertical-align: top;\n",
       "    }\n",
       "\n",
       "    .dataframe thead th {\n",
       "        text-align: right;\n",
       "    }\n",
       "</style>\n",
       "<table border=\"1\" class=\"dataframe\">\n",
       "  <thead>\n",
       "    <tr style=\"text-align: right;\">\n",
       "      <th></th>\n",
       "      <th>index</th>\n",
       "      <th>val</th>\n",
       "    </tr>\n",
       "  </thead>\n",
       "  <tbody>\n",
       "    <tr>\n",
       "      <th>95</th>\n",
       "      <td>13043_right.jpeg</td>\n",
       "      <td>23.295280</td>\n",
       "    </tr>\n",
       "    <tr>\n",
       "      <th>96</th>\n",
       "      <td>30205_left.jpeg</td>\n",
       "      <td>23.316267</td>\n",
       "    </tr>\n",
       "    <tr>\n",
       "      <th>97</th>\n",
       "      <td>393_right.jpeg</td>\n",
       "      <td>23.355272</td>\n",
       "    </tr>\n",
       "    <tr>\n",
       "      <th>98</th>\n",
       "      <td>41105_right.jpeg</td>\n",
       "      <td>23.369600</td>\n",
       "    </tr>\n",
       "    <tr>\n",
       "      <th>99</th>\n",
       "      <td>39832_left.jpeg</td>\n",
       "      <td>23.531645</td>\n",
       "    </tr>\n",
       "  </tbody>\n",
       "</table>\n",
       "</div>"
      ],
      "text/plain": [
       "               index        val\n",
       "95  13043_right.jpeg  23.295280\n",
       "96   30205_left.jpeg  23.316267\n",
       "97    393_right.jpeg  23.355272\n",
       "98  41105_right.jpeg  23.369600\n",
       "99   39832_left.jpeg  23.531645"
      ]
     },
     "execution_count": 57,
     "metadata": {
      "tags": []
     },
     "output_type": "execute_result"
    }
   ],
   "source": [
    "df.head(100).tail()"
   ]
  },
  {
   "cell_type": "code",
   "execution_count": 0,
   "metadata": {
    "colab": {},
    "colab_type": "code",
    "id": "-zyBCI5v3HBv"
   },
   "outputs": [],
   "source": [
    "to_delete = df[\"index\"].head(100).tolist()\n",
    "remove_blur_images(\"./tmp/train/1/\",to_delete)"
   ]
  },
  {
   "cell_type": "code",
   "execution_count": 0,
   "metadata": {
    "colab": {
     "base_uri": "https://localhost:8080/",
     "height": 34
    },
    "colab_type": "code",
    "id": "_vyv_bNV3Kfw",
    "outputId": "6663e52e-0e84-4fd8-9404-d15f3851eb59"
   },
   "outputs": [
    {
     "name": "stdout",
     "output_type": "stream",
     "text": [
      "2343\n"
     ]
    }
   ],
   "source": [
    "!ls tmp/train/1 | wc -l"
   ]
  },
  {
   "cell_type": "code",
   "execution_count": 0,
   "metadata": {
    "colab": {
     "base_uri": "https://localhost:8080/",
     "height": 52
    },
    "colab_type": "code",
    "id": "QOrLZKTU3OBJ",
    "outputId": "cff6fd4f-6346-4ac1-a388-3e987b242f0e"
   },
   "outputs": [
    {
     "name": "stdout",
     "output_type": "stream",
     "text": [
      "CPU times: user 43.5 s, sys: 6.05 s, total: 49.5 s\n",
      "Wall time: 43.2 s\n"
     ]
    }
   ],
   "source": [
    "%time dict_sharp = blur_check(\"./tmp/train/2/\")\n",
    "frame = pd.Series(dict_sharp)\n",
    "df = pd.DataFrame(frame,columns=[\"val\"])\n",
    "df.sort_values(by='val',inplace=True)\n",
    "df.reset_index(level=0, inplace=True)"
   ]
  },
  {
   "cell_type": "code",
   "execution_count": 0,
   "metadata": {
    "colab": {
     "base_uri": "https://localhost:8080/",
     "height": 206
    },
    "colab_type": "code",
    "id": "W-Oe_4Fj3SYU",
    "outputId": "697d2b1d-de0d-4c2e-e986-e641125b95d1"
   },
   "outputs": [
    {
     "data": {
      "text/html": [
       "<div>\n",
       "<style scoped>\n",
       "    .dataframe tbody tr th:only-of-type {\n",
       "        vertical-align: middle;\n",
       "    }\n",
       "\n",
       "    .dataframe tbody tr th {\n",
       "        vertical-align: top;\n",
       "    }\n",
       "\n",
       "    .dataframe thead th {\n",
       "        text-align: right;\n",
       "    }\n",
       "</style>\n",
       "<table border=\"1\" class=\"dataframe\">\n",
       "  <thead>\n",
       "    <tr style=\"text-align: right;\">\n",
       "      <th></th>\n",
       "      <th>index</th>\n",
       "      <th>val</th>\n",
       "    </tr>\n",
       "  </thead>\n",
       "  <tbody>\n",
       "    <tr>\n",
       "      <th>245</th>\n",
       "      <td>21447_right.jpeg</td>\n",
       "      <td>18.958998</td>\n",
       "    </tr>\n",
       "    <tr>\n",
       "      <th>246</th>\n",
       "      <td>33746_right.jpeg</td>\n",
       "      <td>18.960989</td>\n",
       "    </tr>\n",
       "    <tr>\n",
       "      <th>247</th>\n",
       "      <td>30069_left.jpeg</td>\n",
       "      <td>18.976494</td>\n",
       "    </tr>\n",
       "    <tr>\n",
       "      <th>248</th>\n",
       "      <td>9942_right.jpeg</td>\n",
       "      <td>18.976888</td>\n",
       "    </tr>\n",
       "    <tr>\n",
       "      <th>249</th>\n",
       "      <td>2357_left.jpeg</td>\n",
       "      <td>19.053912</td>\n",
       "    </tr>\n",
       "  </tbody>\n",
       "</table>\n",
       "</div>"
      ],
      "text/plain": [
       "                index        val\n",
       "245  21447_right.jpeg  18.958998\n",
       "246  33746_right.jpeg  18.960989\n",
       "247   30069_left.jpeg  18.976494\n",
       "248   9942_right.jpeg  18.976888\n",
       "249    2357_left.jpeg  19.053912"
      ]
     },
     "execution_count": 66,
     "metadata": {
      "tags": []
     },
     "output_type": "execute_result"
    }
   ],
   "source": [
    "df.head(250).tail()"
   ]
  },
  {
   "cell_type": "code",
   "execution_count": 0,
   "metadata": {
    "colab": {},
    "colab_type": "code",
    "id": "rQh-WC9Z3XBU"
   },
   "outputs": [],
   "source": [
    "to_delete = df[\"index\"].head(250).tolist()\n",
    "remove_blur_images(\"./tmp/train/2/\",to_delete)"
   ]
  },
  {
   "cell_type": "code",
   "execution_count": 0,
   "metadata": {
    "colab": {
     "base_uri": "https://localhost:8080/",
     "height": 52
    },
    "colab_type": "code",
    "id": "0M0WHf5I3XIw",
    "outputId": "dcb55ce9-804f-4608-e9f0-f178341a97b3"
   },
   "outputs": [
    {
     "name": "stdout",
     "output_type": "stream",
     "text": [
      "CPU times: user 7.25 s, sys: 983 ms, total: 8.23 s\n",
      "Wall time: 7.19 s\n"
     ]
    }
   ],
   "source": [
    "%time dict_sharp = blur_check(\"./tmp/train/3/\")"
   ]
  },
  {
   "cell_type": "code",
   "execution_count": 0,
   "metadata": {
    "colab": {},
    "colab_type": "code",
    "id": "jYYyo2O03XF5"
   },
   "outputs": [],
   "source": [
    "frame = pd.Series(dict_sharp)\n",
    "df = pd.DataFrame(frame,columns=[\"val\"])\n",
    "df.sort_values(by='val',inplace=True)\n",
    "df.reset_index(level=0, inplace=True)"
   ]
  },
  {
   "cell_type": "code",
   "execution_count": 0,
   "metadata": {
    "colab": {
     "base_uri": "https://localhost:8080/",
     "height": 206
    },
    "colab_type": "code",
    "id": "Fs77DNAv3Ywk",
    "outputId": "0276d41b-589b-4bcb-ac3a-3c4d9b0fe319"
   },
   "outputs": [
    {
     "data": {
      "text/html": [
       "<div>\n",
       "<style scoped>\n",
       "    .dataframe tbody tr th:only-of-type {\n",
       "        vertical-align: middle;\n",
       "    }\n",
       "\n",
       "    .dataframe tbody tr th {\n",
       "        vertical-align: top;\n",
       "    }\n",
       "\n",
       "    .dataframe thead th {\n",
       "        text-align: right;\n",
       "    }\n",
       "</style>\n",
       "<table border=\"1\" class=\"dataframe\">\n",
       "  <thead>\n",
       "    <tr style=\"text-align: right;\">\n",
       "      <th></th>\n",
       "      <th>index</th>\n",
       "      <th>val</th>\n",
       "    </tr>\n",
       "  </thead>\n",
       "  <tbody>\n",
       "    <tr>\n",
       "      <th>35</th>\n",
       "      <td>8699_left.jpeg</td>\n",
       "      <td>16.152079</td>\n",
       "    </tr>\n",
       "    <tr>\n",
       "      <th>36</th>\n",
       "      <td>40259_left.jpeg</td>\n",
       "      <td>17.012925</td>\n",
       "    </tr>\n",
       "    <tr>\n",
       "      <th>37</th>\n",
       "      <td>5298_right.jpeg</td>\n",
       "      <td>17.035852</td>\n",
       "    </tr>\n",
       "    <tr>\n",
       "      <th>38</th>\n",
       "      <td>18971_left.jpeg</td>\n",
       "      <td>17.069210</td>\n",
       "    </tr>\n",
       "    <tr>\n",
       "      <th>39</th>\n",
       "      <td>34006_right.jpeg</td>\n",
       "      <td>17.433434</td>\n",
       "    </tr>\n",
       "  </tbody>\n",
       "</table>\n",
       "</div>"
      ],
      "text/plain": [
       "               index        val\n",
       "35    8699_left.jpeg  16.152079\n",
       "36   40259_left.jpeg  17.012925\n",
       "37   5298_right.jpeg  17.035852\n",
       "38   18971_left.jpeg  17.069210\n",
       "39  34006_right.jpeg  17.433434"
      ]
     },
     "execution_count": 81,
     "metadata": {
      "tags": []
     },
     "output_type": "execute_result"
    }
   ],
   "source": [
    "df.head(40).tail()"
   ]
  },
  {
   "cell_type": "code",
   "execution_count": 0,
   "metadata": {
    "colab": {},
    "colab_type": "code",
    "id": "CWv66s-c4Eng"
   },
   "outputs": [],
   "source": [
    "to_delete = df[\"index\"].head(40).tolist()\n",
    "remove_blur_images(\"./tmp/train/3/\",to_delete)"
   ]
  },
  {
   "cell_type": "code",
   "execution_count": 0,
   "metadata": {
    "colab": {
     "base_uri": "https://localhost:8080/",
     "height": 52
    },
    "colab_type": "code",
    "id": "Qh8ADIFe3Yss",
    "outputId": "1ee08570-ce7c-4d4f-e807-2800210b2e85"
   },
   "outputs": [
    {
     "name": "stdout",
     "output_type": "stream",
     "text": [
      "CPU times: user 5.92 s, sys: 776 ms, total: 6.69 s\n",
      "Wall time: 5.84 s\n"
     ]
    }
   ],
   "source": [
    "%time dict_sharp = blur_check(\"./tmp/train/4/\")"
   ]
  },
  {
   "cell_type": "code",
   "execution_count": 0,
   "metadata": {
    "colab": {},
    "colab_type": "code",
    "id": "ror4eogp3aLU"
   },
   "outputs": [],
   "source": [
    "frame = pd.Series(dict_sharp)\n",
    "df = pd.DataFrame(frame,columns=[\"val\"])\n",
    "df.sort_values(by='val',inplace=True)\n",
    "df.reset_index(level=0, inplace=True)"
   ]
  },
  {
   "cell_type": "code",
   "execution_count": 0,
   "metadata": {
    "colab": {
     "base_uri": "https://localhost:8080/",
     "height": 990
    },
    "colab_type": "code",
    "collapsed": true,
    "id": "06sCV8pl3aR9",
    "outputId": "4a4029ef-1740-415c-d748-b1522f0ab338"
   },
   "outputs": [
    {
     "data": {
      "text/html": [
       "<div>\n",
       "<style scoped>\n",
       "    .dataframe tbody tr th:only-of-type {\n",
       "        vertical-align: middle;\n",
       "    }\n",
       "\n",
       "    .dataframe tbody tr th {\n",
       "        vertical-align: top;\n",
       "    }\n",
       "\n",
       "    .dataframe thead th {\n",
       "        text-align: right;\n",
       "    }\n",
       "</style>\n",
       "<table border=\"1\" class=\"dataframe\">\n",
       "  <thead>\n",
       "    <tr style=\"text-align: right;\">\n",
       "      <th></th>\n",
       "      <th>index</th>\n",
       "      <th>val</th>\n",
       "    </tr>\n",
       "  </thead>\n",
       "  <tbody>\n",
       "    <tr>\n",
       "      <th>0</th>\n",
       "      <td>30723_left.jpeg</td>\n",
       "      <td>4.110168</td>\n",
       "    </tr>\n",
       "    <tr>\n",
       "      <th>1</th>\n",
       "      <td>40178_left.jpeg</td>\n",
       "      <td>5.632523</td>\n",
       "    </tr>\n",
       "    <tr>\n",
       "      <th>2</th>\n",
       "      <td>30675_left.jpeg</td>\n",
       "      <td>7.969081</td>\n",
       "    </tr>\n",
       "    <tr>\n",
       "      <th>3</th>\n",
       "      <td>6613_right.jpeg</td>\n",
       "      <td>8.131547</td>\n",
       "    </tr>\n",
       "    <tr>\n",
       "      <th>4</th>\n",
       "      <td>41852_right.jpeg</td>\n",
       "      <td>8.718414</td>\n",
       "    </tr>\n",
       "    <tr>\n",
       "      <th>5</th>\n",
       "      <td>17411_right.jpeg</td>\n",
       "      <td>9.154816</td>\n",
       "    </tr>\n",
       "    <tr>\n",
       "      <th>6</th>\n",
       "      <td>35704_left.jpeg</td>\n",
       "      <td>9.200000</td>\n",
       "    </tr>\n",
       "    <tr>\n",
       "      <th>7</th>\n",
       "      <td>31659_right.jpeg</td>\n",
       "      <td>9.372860</td>\n",
       "    </tr>\n",
       "    <tr>\n",
       "      <th>8</th>\n",
       "      <td>40819_left.jpeg</td>\n",
       "      <td>10.066191</td>\n",
       "    </tr>\n",
       "    <tr>\n",
       "      <th>9</th>\n",
       "      <td>9298_right.jpeg</td>\n",
       "      <td>10.068080</td>\n",
       "    </tr>\n",
       "    <tr>\n",
       "      <th>10</th>\n",
       "      <td>6613_left.jpeg</td>\n",
       "      <td>10.081295</td>\n",
       "    </tr>\n",
       "    <tr>\n",
       "      <th>11</th>\n",
       "      <td>36300_right.jpeg</td>\n",
       "      <td>10.214231</td>\n",
       "    </tr>\n",
       "    <tr>\n",
       "      <th>12</th>\n",
       "      <td>42316_left.jpeg</td>\n",
       "      <td>10.336052</td>\n",
       "    </tr>\n",
       "    <tr>\n",
       "      <th>13</th>\n",
       "      <td>5258_right.jpeg</td>\n",
       "      <td>10.546245</td>\n",
       "    </tr>\n",
       "    <tr>\n",
       "      <th>14</th>\n",
       "      <td>23648_right.jpeg</td>\n",
       "      <td>10.660364</td>\n",
       "    </tr>\n",
       "    <tr>\n",
       "      <th>15</th>\n",
       "      <td>42484_left.jpeg</td>\n",
       "      <td>10.778426</td>\n",
       "    </tr>\n",
       "    <tr>\n",
       "      <th>16</th>\n",
       "      <td>40819_right.jpeg</td>\n",
       "      <td>11.090302</td>\n",
       "    </tr>\n",
       "    <tr>\n",
       "      <th>17</th>\n",
       "      <td>40323_right.jpeg</td>\n",
       "      <td>11.342355</td>\n",
       "    </tr>\n",
       "    <tr>\n",
       "      <th>18</th>\n",
       "      <td>5258_left.jpeg</td>\n",
       "      <td>11.785373</td>\n",
       "    </tr>\n",
       "    <tr>\n",
       "      <th>19</th>\n",
       "      <td>21788_right.jpeg</td>\n",
       "      <td>11.791588</td>\n",
       "    </tr>\n",
       "    <tr>\n",
       "      <th>20</th>\n",
       "      <td>22716_left.jpeg</td>\n",
       "      <td>11.906851</td>\n",
       "    </tr>\n",
       "    <tr>\n",
       "      <th>21</th>\n",
       "      <td>37008_left.jpeg</td>\n",
       "      <td>12.160895</td>\n",
       "    </tr>\n",
       "    <tr>\n",
       "      <th>22</th>\n",
       "      <td>31659_left.jpeg</td>\n",
       "      <td>13.033192</td>\n",
       "    </tr>\n",
       "    <tr>\n",
       "      <th>23</th>\n",
       "      <td>39505_left.jpeg</td>\n",
       "      <td>13.103392</td>\n",
       "    </tr>\n",
       "    <tr>\n",
       "      <th>24</th>\n",
       "      <td>22716_right.jpeg</td>\n",
       "      <td>13.159921</td>\n",
       "    </tr>\n",
       "    <tr>\n",
       "      <th>25</th>\n",
       "      <td>16802_right.jpeg</td>\n",
       "      <td>13.668926</td>\n",
       "    </tr>\n",
       "    <tr>\n",
       "      <th>26</th>\n",
       "      <td>2804_right.jpeg</td>\n",
       "      <td>13.702373</td>\n",
       "    </tr>\n",
       "    <tr>\n",
       "      <th>27</th>\n",
       "      <td>21788_left.jpeg</td>\n",
       "      <td>14.047569</td>\n",
       "    </tr>\n",
       "    <tr>\n",
       "      <th>28</th>\n",
       "      <td>9298_left.jpeg</td>\n",
       "      <td>14.245277</td>\n",
       "    </tr>\n",
       "    <tr>\n",
       "      <th>29</th>\n",
       "      <td>8681_left.jpeg</td>\n",
       "      <td>14.351860</td>\n",
       "    </tr>\n",
       "  </tbody>\n",
       "</table>\n",
       "</div>"
      ],
      "text/plain": [
       "               index        val\n",
       "0    30723_left.jpeg   4.110168\n",
       "1    40178_left.jpeg   5.632523\n",
       "2    30675_left.jpeg   7.969081\n",
       "3    6613_right.jpeg   8.131547\n",
       "4   41852_right.jpeg   8.718414\n",
       "5   17411_right.jpeg   9.154816\n",
       "6    35704_left.jpeg   9.200000\n",
       "7   31659_right.jpeg   9.372860\n",
       "8    40819_left.jpeg  10.066191\n",
       "9    9298_right.jpeg  10.068080\n",
       "10    6613_left.jpeg  10.081295\n",
       "11  36300_right.jpeg  10.214231\n",
       "12   42316_left.jpeg  10.336052\n",
       "13   5258_right.jpeg  10.546245\n",
       "14  23648_right.jpeg  10.660364\n",
       "15   42484_left.jpeg  10.778426\n",
       "16  40819_right.jpeg  11.090302\n",
       "17  40323_right.jpeg  11.342355\n",
       "18    5258_left.jpeg  11.785373\n",
       "19  21788_right.jpeg  11.791588\n",
       "20   22716_left.jpeg  11.906851\n",
       "21   37008_left.jpeg  12.160895\n",
       "22   31659_left.jpeg  13.033192\n",
       "23   39505_left.jpeg  13.103392\n",
       "24  22716_right.jpeg  13.159921\n",
       "25  16802_right.jpeg  13.668926\n",
       "26   2804_right.jpeg  13.702373\n",
       "27   21788_left.jpeg  14.047569\n",
       "28    9298_left.jpeg  14.245277\n",
       "29    8681_left.jpeg  14.351860"
      ]
     },
     "execution_count": 86,
     "metadata": {
      "tags": []
     },
     "output_type": "execute_result"
    }
   ],
   "source": [
    "df.head(30)"
   ]
  },
  {
   "cell_type": "code",
   "execution_count": 0,
   "metadata": {
    "colab": {},
    "colab_type": "code",
    "id": "0n3KEIDo3aHa"
   },
   "outputs": [],
   "source": [
    "to_delete = df[\"index\"].head(30).tolist()\n",
    "remove_blur_images(\"./tmp/train/4/\",to_delete)"
   ]
  },
  {
   "cell_type": "code",
   "execution_count": 0,
   "metadata": {
    "colab": {
     "base_uri": "https://localhost:8080/",
     "height": 34
    },
    "colab_type": "code",
    "id": "mPKiOZEx4Tte",
    "outputId": "a5039b84-578b-4c39-d577-447dc420d447"
   },
   "outputs": [
    {
     "name": "stdout",
     "output_type": "stream",
     "text": [
      "22810\n"
     ]
    }
   ],
   "source": [
    "!ls tmp/train/0 | wc -l"
   ]
  },
  {
   "cell_type": "code",
   "execution_count": 0,
   "metadata": {
    "colab": {
     "base_uri": "https://localhost:8080/",
     "height": 34
    },
    "colab_type": "code",
    "id": "-vosK4CG4Ty8",
    "outputId": "135be39c-138d-4ca6-cea9-00e6eee16aee"
   },
   "outputs": [
    {
     "name": "stdout",
     "output_type": "stream",
     "text": [
      "2343\n"
     ]
    }
   ],
   "source": [
    "!ls tmp/train/1 | wc -l"
   ]
  },
  {
   "cell_type": "code",
   "execution_count": 0,
   "metadata": {
    "colab": {
     "base_uri": "https://localhost:8080/",
     "height": 34
    },
    "colab_type": "code",
    "id": "O60KHGJ44TwK",
    "outputId": "201cafc8-de7a-459a-9392-11330ab88493"
   },
   "outputs": [
    {
     "name": "stdout",
     "output_type": "stream",
     "text": [
      "5042\n"
     ]
    }
   ],
   "source": [
    "!ls tmp/train/2 | wc -l"
   ]
  },
  {
   "cell_type": "code",
   "execution_count": 0,
   "metadata": {
    "colab": {
     "base_uri": "https://localhost:8080/",
     "height": 34
    },
    "colab_type": "code",
    "id": "wdovBQEj4TrT",
    "outputId": "a8d14f8e-e7bd-4737-c1f0-2b44a84ab366"
   },
   "outputs": [
    {
     "name": "stdout",
     "output_type": "stream",
     "text": [
      "833\n"
     ]
    }
   ],
   "source": [
    "!ls tmp/train/3 | wc -l"
   ]
  },
  {
   "cell_type": "code",
   "execution_count": 0,
   "metadata": {
    "colab": {
     "base_uri": "https://localhost:8080/",
     "height": 34
    },
    "colab_type": "code",
    "id": "C8d_t9044Top",
    "outputId": "eccdc2d8-4a32-416f-a11d-433e27b73f3e"
   },
   "outputs": [
    {
     "name": "stdout",
     "output_type": "stream",
     "text": [
      "678\n"
     ]
    }
   ],
   "source": [
    "!ls tmp/train/4 | wc -l"
   ]
  },
  {
   "cell_type": "markdown",
   "metadata": {},
   "source": [
    "### Data imbalance problem is there, which will affect classification\n",
    "![title](imjup/data_dist.jpeg)"
   ]
  },
  {
   "cell_type": "code",
   "execution_count": 0,
   "metadata": {
    "colab": {},
    "colab_type": "code",
    "id": "xQDnlpe94wNn"
   },
   "outputs": [],
   "source": [
    "remove_excess_images(\"tmp/train/0/\",14000)"
   ]
  },
  {
   "cell_type": "code",
   "execution_count": 0,
   "metadata": {
    "colab": {
     "base_uri": "https://localhost:8080/",
     "height": 34
    },
    "colab_type": "code",
    "id": "90mjFZPI4532",
    "outputId": "ed72c7b2-ec59-44fb-8a14-debe98b73012"
   },
   "outputs": [
    {
     "name": "stdout",
     "output_type": "stream",
     "text": [
      "8810\n"
     ]
    }
   ],
   "source": [
    "!ls tmp/train/0 | wc -l"
   ]
  },
  {
   "cell_type": "markdown",
   "metadata": {},
   "source": [
    "### Data Distribution after removing excess images which can be taken as undersampling as well based on the defined criteria above\n",
    "\n",
    "![title](imjup/data_dist_1.jpeg)"
   ]
  },
  {
   "cell_type": "code",
   "execution_count": 0,
   "metadata": {
    "colab": {},
    "colab_type": "code",
    "id": "nlLsv6Nv6hU1"
   },
   "outputs": [],
   "source": [
    "data_aug_val_1(\"tmp/train/1/\")"
   ]
  },
  {
   "cell_type": "code",
   "execution_count": 0,
   "metadata": {
    "colab": {},
    "colab_type": "code",
    "id": "E75ZIKe168ir"
   },
   "outputs": [],
   "source": [
    "data_aug_val(\"tmp/train/3/\")\n",
    "data_aug_val(\"tmp/train/4/\")"
   ]
  },
  {
   "cell_type": "markdown",
   "metadata": {},
   "source": [
    "### Data Distribution after augmentation\n",
    "![title](imjup/data_dist_2.jpeg)\n",
    "\n",
    "#### Data imbalance has been considerably reduced now"
   ]
  },
  {
   "cell_type": "code",
   "execution_count": null,
   "metadata": {
    "colab": {
     "base_uri": "https://localhost:8080/",
     "height": 426647
    },
    "colab_type": "code",
    "id": "IAn7jYT-6-6H",
    "outputId": "3c5630d2-19ca-4d39-b2a5-2ef41aaf1fea"
   },
   "outputs": [],
   "source": [
    "#creating a zip file containing all the train images\n",
    "#using capture to mute the outputs\n",
    "%%capture\n",
    "!zip -r tmp/train{.zip,}"
   ]
  },
  {
   "cell_type": "markdown",
   "metadata": {},
   "source": [
    "### Saving Images in google Drive"
   ]
  },
  {
   "cell_type": "code",
   "execution_count": 0,
   "metadata": {
    "colab": {
     "base_uri": "https://localhost:8080/",
     "height": 34
    },
    "colab_type": "code",
    "id": "UDZMrnUR7ETW",
    "outputId": "a0ddbf53-a3b1-4913-e839-36cb8578e144"
   },
   "outputs": [
    {
     "data": {
      "text/plain": [
       "GoogleDriveFile({'id': '12pmf7HcIoXtDNw7jXwUnqv6eXAG-zkjA'})"
      ]
     },
     "execution_count": 105,
     "metadata": {
      "tags": []
     },
     "output_type": "execute_result"
    }
   ],
   "source": [
    "#uploading the zip created\n",
    "\n",
    "!pip install -U -q PyDrive\n",
    "from pydrive.auth import GoogleAuth\n",
    "from pydrive.drive import GoogleDrive\n",
    "from google.colab import auth\n",
    "from oauth2client.client import GoogleCredentials\n",
    "\n",
    "# 1. Authenticate and create the PyDrive client.\n",
    "auth.authenticate_user()\n",
    "gauth = GoogleAuth()\n",
    "gauth.credentials = GoogleCredentials.get_application_default()\n",
    "drive = GoogleDrive(gauth)\n",
    "\n",
    "\n",
    "# 2. Save Keras Model or weights on google drive\n",
    "\n",
    "# create on Colab directory\n",
    "  \n",
    "model_file = drive.CreateFile({'title' : 'train.zip'})\n",
    "model_file.SetContentFile('./tmp/train.zip')\n",
    "model_file.Upload()\n",
    "\n",
    "# download to google drive\n",
    "drive.CreateFile({'id': model_file.get('id')})\n"
   ]
  }
 ],
 "metadata": {
  "accelerator": "GPU",
  "colab": {
   "name": "Data Cleaning DR",
   "provenance": [],
   "version": "0.3.2"
  },
  "kernelspec": {
   "display_name": "Python 3",
   "language": "python",
   "name": "python3"
  },
  "language_info": {
   "codemirror_mode": {
    "name": "ipython",
    "version": 3
   },
   "file_extension": ".py",
   "mimetype": "text/x-python",
   "name": "python",
   "nbconvert_exporter": "python",
   "pygments_lexer": "ipython3",
   "version": "3.6.7"
  }
 },
 "nbformat": 4,
 "nbformat_minor": 1
}
